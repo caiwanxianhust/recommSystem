{
 "cells": [
  {
   "cell_type": "code",
   "execution_count": 1,
   "metadata": {},
   "outputs": [],
   "source": [
    "from surprise import KNNBaseline, accuracy, Dataset\n",
    "from surprise.model_selection import train_test_split"
   ]
  },
  {
   "cell_type": "code",
   "execution_count": 2,
   "metadata": {},
   "outputs": [],
   "source": [
    "data = Dataset.load_builtin(\"ml-100k\")\n",
    "trainset, testset = train_test_split(data, test_size=.2, random_state=10, shuffle=True)"
   ]
  },
  {
   "cell_type": "markdown",
   "metadata": {},
   "source": [
    "## KNNBaseline\n",
    "一种基本协同过滤算法，考虑到基线评分。  \n",
    "The prediction $\\hat{r_{ui}}$ is set as:\n",
    "$$\n",
    "\\hat{r_{ui}}=b_{ui}+\\frac{\\sum_{v\\in{N^k_i(u)}}sim(u,v)⋅(r_{vi}−b_{vi})}{\\sum_{v\\in{N^k_i(u)}}sim(u,v)}\n",
    "$$\n",
    "or\n",
    "$$\n",
    "\\hat{r_{ui}}=b_{ui}+\\frac{\\sum_{j\\in{N^k_u(i)}}sim(i,j)⋅(r_{uj}−b_{uj})}{\\sum_{j\\in{N^k_u(i)}}sim(i,j)}\n",
    "$$"
   ]
  },
  {
   "cell_type": "code",
   "execution_count": 3,
   "metadata": {},
   "outputs": [
    {
     "name": "stdout",
     "output_type": "stream",
     "text": [
      "Estimating biases using als...\n",
      "Computing the pearson_baseline similarity matrix...\n",
      "Done computing similarity matrix.\n"
     ]
    },
    {
     "data": {
      "text/plain": [
       "<surprise.prediction_algorithms.knns.KNNBaseline at 0x222da0a7978>"
      ]
     },
     "execution_count": 3,
     "metadata": {},
     "output_type": "execute_result"
    }
   ],
   "source": [
    "sim_options = {\n",
    "    'name':'pearson_baseline',\n",
    "    'min_support':0,\n",
    "    'user_based':True,\n",
    "    \"shrinkage\":100\n",
    "}\n",
    "bsl_options = {\n",
    "    'method': 'als',\n",
    "    'n_epochs': 10,\n",
    "    'reg_u': 12,\n",
    "    'reg_i': 5\n",
    "}\n",
    "model = KNNBaseline(\n",
    "    k=30,\n",
    "    min_k=1,\n",
    "    sim_options=sim_options,\n",
    "    bsl_options=bsl_options,\n",
    "    verbose=True\n",
    ")\n",
    "model.fit(trainset)"
   ]
  },
  {
   "cell_type": "code",
   "execution_count": 4,
   "metadata": {},
   "outputs": [
    {
     "data": {
      "text/plain": [
       "(array([[ 1.        ,  0.00270557, -0.01482526,  0.01699328,  0.00849375],\n",
       "        [ 0.00270557,  1.        ,  0.03473093,  0.00504646, -0.00235382],\n",
       "        [-0.01482526,  0.03473093,  1.        ,  0.02100351, -0.02198502],\n",
       "        [ 0.01699328,  0.00504646,  0.02100351,  1.        ,  0.03860745],\n",
       "        [ 0.00849375, -0.00235382, -0.02198502,  0.03860745,  1.        ]]),\n",
       " (943, 943))"
      ]
     },
     "execution_count": 4,
     "metadata": {},
     "output_type": "execute_result"
    }
   ],
   "source": [
    "#用户的相似度矩阵，对称矩阵\n",
    "sim = model.sim\n",
    "sim[:5, :5], sim.shape"
   ]
  },
  {
   "cell_type": "code",
   "execution_count": 5,
   "metadata": {},
   "outputs": [
    {
     "data": {
      "text/plain": [
       "[Prediction(uid='154', iid='302', r_ui=4.0, est=4.3011830747708295, details={'actual_k': 30, 'was_impossible': False}),\n",
       " Prediction(uid='896', iid='484', r_ui=4.0, est=3.561435096905012, details={'actual_k': 30, 'was_impossible': False}),\n",
       " Prediction(uid='230', iid='371', r_ui=4.0, est=3.471466749152098, details={'actual_k': 28, 'was_impossible': False}),\n",
       " Prediction(uid='234', iid='294', r_ui=3.0, est=2.345989406310192, details={'actual_k': 30, 'was_impossible': False}),\n",
       " Prediction(uid='25', iid='729', r_ui=4.0, est=3.8041289217402543, details={'actual_k': 30, 'was_impossible': False}),\n",
       " Prediction(uid='249', iid='156', r_ui=5.0, est=4.828685131096553, details={'actual_k': 30, 'was_impossible': False}),\n",
       " Prediction(uid='64', iid='447', r_ui=4.0, est=3.4591623955639337, details={'actual_k': 30, 'was_impossible': False}),\n",
       " Prediction(uid='896', iid='1134', r_ui=3.0, est=2.5112712801695345, details={'actual_k': 13, 'was_impossible': False}),\n",
       " Prediction(uid='18', iid='153', r_ui=4.0, est=3.7862637993993338, details={'actual_k': 30, 'was_impossible': False}),\n",
       " Prediction(uid='378', iid='709', r_ui=4.0, est=3.8629582103654996, details={'actual_k': 30, 'was_impossible': False})]"
      ]
     },
     "execution_count": 5,
     "metadata": {},
     "output_type": "execute_result"
    }
   ],
   "source": [
    "pred = model.test(testset)\n",
    "pred[:10]"
   ]
  },
  {
   "cell_type": "code",
   "execution_count": 6,
   "metadata": {},
   "outputs": [
    {
     "name": "stdout",
     "output_type": "stream",
     "text": [
      "RMSE: 0.9132\n"
     ]
    },
    {
     "data": {
      "text/plain": [
       "0.9131574961896006"
      ]
     },
     "execution_count": 6,
     "metadata": {},
     "output_type": "execute_result"
    }
   ],
   "source": [
    "accuracy.rmse(pred)"
   ]
  },
  {
   "cell_type": "code",
   "execution_count": 7,
   "metadata": {},
   "outputs": [
    {
     "data": {
      "text/plain": [
       "array([ 0.89635215, -0.27567096,  0.25453814,  0.26963269, -0.8494579 ,\n",
       "        0.21856154,  0.60372569,  0.59540045,  0.02074645,  0.33199024])"
      ]
     },
     "execution_count": 7,
     "metadata": {},
     "output_type": "execute_result"
    }
   ],
   "source": [
    "bi = model.bi\n",
    "bi[:10]"
   ]
  },
  {
   "cell_type": "code",
   "execution_count": 8,
   "metadata": {},
   "outputs": [
    {
     "data": {
      "text/plain": [
       "array([-0.57340316, -0.09967058,  0.05739471, -0.22851873,  0.01401689,\n",
       "       -0.2978673 ,  0.17696704, -0.02960559, -0.65771845, -0.18264165])"
      ]
     },
     "execution_count": 8,
     "metadata": {},
     "output_type": "execute_result"
    }
   ],
   "source": [
    "bu = model.bu\n",
    "bu[:10]"
   ]
  },
  {
   "cell_type": "code",
   "execution_count": 9,
   "metadata": {},
   "outputs": [
    {
     "data": {
      "text/plain": [
       "array([-0.57340316, -0.09967058,  0.05739471, -0.22851873,  0.01401689,\n",
       "       -0.2978673 ,  0.17696704, -0.02960559, -0.65771845, -0.18264165])"
      ]
     },
     "execution_count": 9,
     "metadata": {},
     "output_type": "execute_result"
    }
   ],
   "source": [
    "model.bx[:10]#和bu一样"
   ]
  },
  {
   "cell_type": "code",
   "execution_count": 10,
   "metadata": {},
   "outputs": [
    {
     "data": {
      "text/plain": [
       "(171, 738)"
      ]
     },
     "execution_count": 10,
     "metadata": {},
     "output_type": "execute_result"
    }
   ],
   "source": [
    "trainset.to_inner_iid('302'), trainset.to_inner_uid('154')"
   ]
  },
  {
   "cell_type": "code",
   "execution_count": 11,
   "metadata": {},
   "outputs": [],
   "source": [
    "import heapq\n",
    "ir = trainset.ir[171]\n",
    "neighbors = [(u, sim[738, u], r) for (u, r) in ir]\n",
    "k_neighbors = heapq.nlargest(30, neighbors, key=lambda t: t[1])"
   ]
  },
  {
   "cell_type": "code",
   "execution_count": 12,
   "metadata": {},
   "outputs": [],
   "source": [
    "global_mean = trainset.global_mean"
   ]
  },
  {
   "cell_type": "code",
   "execution_count": 13,
   "metadata": {},
   "outputs": [
    {
     "data": {
      "text/plain": [
       "(0.010150830671586102, 1.4563459281371463, 30)"
      ]
     },
     "execution_count": 13,
     "metadata": {},
     "output_type": "execute_result"
    }
   ],
   "source": [
    "sum_sim = sum_ratings = actual_k = 0\n",
    "for (nb, sim, r) in k_neighbors:\n",
    "    if sim > 0:\n",
    "        sum_sim += sim\n",
    "        nb_bsl = global_mean + bu[nb] + bi[171]\n",
    "        sum_ratings += sim * (r - nb_bsl)\n",
    "        actual_k += 1\n",
    "sum_ratings, sum_sim, actual_k"
   ]
  },
  {
   "cell_type": "code",
   "execution_count": 15,
   "metadata": {},
   "outputs": [
    {
     "data": {
      "text/plain": [
       "4.3011830747708295"
      ]
     },
     "execution_count": 15,
     "metadata": {},
     "output_type": "execute_result"
    }
   ],
   "source": [
    "est = sum_ratings / sum_sim + bu[738] + bi[171] + global_mean\n",
    "est"
   ]
  },
  {
   "cell_type": "markdown",
   "metadata": {},
   "source": [
    "计算结果与模型pred输出一致\n",
    "$$\n",
    "\\hat{r_{ui}}=\\mu+b_u+b_i+\\frac{\\sum_{v\\in{N^k_i(u)}}sim(u,v)⋅(r_{vi}−\\mu-b_v-b_i)}{\\sum_{v\\in{N^k_i(u)}}sim(u,v)}\n",
    "$$\n",
    "or\n",
    "$$\n",
    "\\hat{r_{ui}}=\\mu+b_u+b_i+\\frac{\\sum_{j\\in{N^k_u(i)}}sim(i,j)⋅(r_{uj}−\\mu−b_u-b_j)}{\\sum_{j\\in{N^k_u(i)}}sim(i,j)}\n",
    "$$"
   ]
  },
  {
   "cell_type": "code",
   "execution_count": null,
   "metadata": {},
   "outputs": [],
   "source": []
  }
 ],
 "metadata": {
  "kernelspec": {
   "display_name": "Python 3.6.2 64-bit ('TF2_GPU_PY36': conda)",
   "language": "python",
   "name": "python36264bittf2gpupy36condabd0b351e206d41c0bd036f2b23435a37"
  },
  "language_info": {
   "codemirror_mode": {
    "name": "ipython",
    "version": 3
   },
   "file_extension": ".py",
   "mimetype": "text/x-python",
   "name": "python",
   "nbconvert_exporter": "python",
   "pygments_lexer": "ipython3",
   "version": "3.6.2"
  }
 },
 "nbformat": 4,
 "nbformat_minor": 2
}
