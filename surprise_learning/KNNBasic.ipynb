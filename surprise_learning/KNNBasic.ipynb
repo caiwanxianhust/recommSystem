{
 "cells": [
  {
   "cell_type": "code",
   "execution_count": 1,
   "metadata": {},
   "outputs": [],
   "source": [
    "from surprise import KNNBasic, accuracy, Dataset\n",
    "from surprise.model_selection import train_test_split"
   ]
  },
  {
   "cell_type": "code",
   "execution_count": 2,
   "metadata": {},
   "outputs": [],
   "source": [
    "data = Dataset.load_builtin(\"ml-100k\")\n",
    "trainset, testset = train_test_split(data, test_size=.2, random_state=10, shuffle=True)"
   ]
  },
  {
   "cell_type": "markdown",
   "metadata": {},
   "source": [
    "## KNNBasic\n",
    "$N^k_i(u)和N^k_u(i)$只包含相似度为正的邻居。\n",
    "The prediction $\\hat{r}_{ui} $is set as:\n",
    "$$\n",
    "\\hat{r}_{ui} = \\frac{ \\sum\\limits_{v \\in N^k_i(u)} \\text{sim}(u, v) \\cdot r_{vi}} {\\sum\\limits_{v \\in N^k_i(u)} \\text{sim}(u, v)}\n",
    "$$\n",
    "or\n",
    "$$\n",
    "\\hat{r}_{ui} = \\frac{ \\sum\\limits_{j \\in N^k_u(i)} \\text{sim}(i, j) \\cdot r_{uj}} {\\sum\\limits_{j \\in N^k_u(i)} \\text{sim}(i, j)}\n",
    "$$"
   ]
  },
  {
   "cell_type": "code",
   "execution_count": 4,
   "metadata": {},
   "outputs": [
    {
     "name": "stdout",
     "output_type": "stream",
     "text": [
      "Estimating biases using als...\n",
      "Computing the pearson_baseline similarity matrix...\n",
      "Done computing similarity matrix.\n"
     ]
    },
    {
     "data": {
      "text/plain": [
       "<surprise.prediction_algorithms.knns.KNNBasic at 0x20b81237630>"
      ]
     },
     "execution_count": 4,
     "metadata": {},
     "output_type": "execute_result"
    }
   ],
   "source": [
    "sim_options = {\n",
    "    \"name\":\"pearson_baseline\",#相似度计算方法，'cosine','pearson_baseline','MSD'(均方差)\n",
    "    \"user_based\":True,\n",
    "    \"min_support\":20,#两个用户u,v如果共同评分过的项目数量小于min_support，则u,v相似度为0\n",
    "    \"shrinkage\":100,#Shrinkage parameter to apply (only relevant for pearson_baseline similarity). Default is 100.\n",
    "}\n",
    "model = KNNBasic(\n",
    "    k=30,\n",
    "    min_k=1,#defalut 1.表示需要考虑最小邻居数量，如果邻居数量（满足相似度为正的条件）小于min_k，则预测值等于全局均值\n",
    "    sim_options=sim_options,\n",
    "    verbose=True\n",
    ")\n",
    "model.fit(trainset)"
   ]
  },
  {
   "cell_type": "code",
   "execution_count": 8,
   "metadata": {},
   "outputs": [
    {
     "data": {
      "text/plain": [
       "(array([[1.        , 0.00288911, 0.        , 0.        , 0.        ],\n",
       "        [0.00288911, 1.        , 0.        , 0.        , 0.        ],\n",
       "        [0.        , 0.        , 1.        , 0.        , 0.        ],\n",
       "        [0.        , 0.        , 0.        , 1.        , 0.        ],\n",
       "        [0.        , 0.        , 0.        , 0.        , 1.        ]]),\n",
       " (943, 943))"
      ]
     },
     "execution_count": 8,
     "metadata": {},
     "output_type": "execute_result"
    }
   ],
   "source": [
    "#用户的相似度矩阵，对称矩阵\n",
    "model.sim[:5, :5], model.sim.shape"
   ]
  },
  {
   "cell_type": "code",
   "execution_count": 9,
   "metadata": {},
   "outputs": [
    {
     "data": {
      "text/plain": [
       "{'name': 'pearson_baseline',\n",
       " 'user_based': True,\n",
       " 'min_support': 20,\n",
       " 'shrinkage': 100}"
      ]
     },
     "execution_count": 9,
     "metadata": {},
     "output_type": "execute_result"
    }
   ],
   "source": [
    "model.sim_options"
   ]
  },
  {
   "cell_type": "code",
   "execution_count": 10,
   "metadata": {},
   "outputs": [
    {
     "data": {
      "text/plain": [
       "{}"
      ]
     },
     "execution_count": 10,
     "metadata": {},
     "output_type": "execute_result"
    }
   ],
   "source": [
    "model.bsl_options"
   ]
  },
  {
   "cell_type": "code",
   "execution_count": 11,
   "metadata": {},
   "outputs": [
    {
     "data": {
      "text/plain": [
       "[Prediction(uid='154', iid='302', r_ui=4.0, est=4.194023300579871, details={'actual_k': 17, 'was_impossible': False}),\n",
       " Prediction(uid='896', iid='484', r_ui=4.0, est=4.145543093407065, details={'actual_k': 30, 'was_impossible': False}),\n",
       " Prediction(uid='230', iid='371', r_ui=4.0, est=3.1107402596055462, details={'actual_k': 24, 'was_impossible': False}),\n",
       " Prediction(uid='234', iid='294', r_ui=3.0, est=2.8370435671077905, details={'actual_k': 30, 'was_impossible': False}),\n",
       " Prediction(uid='25', iid='729', r_ui=4.0, est=3.7212408939437007, details={'actual_k': 28, 'was_impossible': False}),\n",
       " Prediction(uid='249', iid='156', r_ui=5.0, est=4.4089549076794965, details={'actual_k': 30, 'was_impossible': False}),\n",
       " Prediction(uid='64', iid='447', r_ui=4.0, est=3.5391499857991717, details={'actual_k': 30, 'was_impossible': False}),\n",
       " Prediction(uid='896', iid='1134', r_ui=3.0, est=3.040980734834555, details={'actual_k': 11, 'was_impossible': False}),\n",
       " Prediction(uid='18', iid='153', r_ui=4.0, est=3.7091682871148977, details={'actual_k': 30, 'was_impossible': False}),\n",
       " Prediction(uid='378', iid='709', r_ui=4.0, est=3.831492295731318, details={'actual_k': 30, 'was_impossible': False})]"
      ]
     },
     "execution_count": 11,
     "metadata": {},
     "output_type": "execute_result"
    }
   ],
   "source": [
    "pred = model.test(testset)\n",
    "pred[:10]"
   ]
  },
  {
   "cell_type": "code",
   "execution_count": 12,
   "metadata": {},
   "outputs": [
    {
     "name": "stdout",
     "output_type": "stream",
     "text": [
      "RMSE: 1.0215\n"
     ]
    },
    {
     "data": {
      "text/plain": [
       "1.0215369179757938"
      ]
     },
     "execution_count": 12,
     "metadata": {},
     "output_type": "execute_result"
    }
   ],
   "source": [
    "accuracy.rmse(pred)"
   ]
  },
  {
   "cell_type": "markdown",
   "metadata": {},
   "source": [
    "'min_support'调小试试"
   ]
  },
  {
   "cell_type": "code",
   "execution_count": 13,
   "metadata": {},
   "outputs": [
    {
     "name": "stdout",
     "output_type": "stream",
     "text": [
      "Estimating biases using als...\n",
      "Computing the pearson_baseline similarity matrix...\n",
      "Done computing similarity matrix.\n",
      "RMSE: 0.9932\n"
     ]
    },
    {
     "data": {
      "text/plain": [
       "0.9932383104795434"
      ]
     },
     "execution_count": 13,
     "metadata": {},
     "output_type": "execute_result"
    }
   ],
   "source": [
    "model.sim_options = {\n",
    "    'name': 'pearson_baseline',\n",
    "    'user_based': True,\n",
    "    'min_support': 0,\n",
    "    'shrinkage': 100\n",
    "}\n",
    "model.fit(trainset)\n",
    "new_pred = model.test(testset)\n",
    "accuracy.rmse(new_pred)"
   ]
  },
  {
   "cell_type": "code",
   "execution_count": 14,
   "metadata": {},
   "outputs": [
    {
     "data": {
      "text/plain": [
       "array([[ 1.        ,  0.00288911, -0.01398557,  0.01750217,  0.00828402],\n",
       "       [ 0.00288911,  1.        ,  0.03474046,  0.00456765, -0.00237884],\n",
       "       [-0.01398557,  0.03474046,  1.        ,  0.02321789, -0.02159672],\n",
       "       [ 0.01750217,  0.00456765,  0.02321789,  1.        ,  0.03779227],\n",
       "       [ 0.00828402, -0.00237884, -0.02159672,  0.03779227,  1.        ]])"
      ]
     },
     "execution_count": 14,
     "metadata": {},
     "output_type": "execute_result"
    }
   ],
   "source": [
    "model.sim[:5, :5]"
   ]
  },
  {
   "cell_type": "code",
   "execution_count": null,
   "metadata": {},
   "outputs": [],
   "source": []
  }
 ],
 "metadata": {
  "kernelspec": {
   "display_name": "Python 3.6.2 64-bit ('TF2_GPU_PY36': conda)",
   "language": "python",
   "name": "python36264bittf2gpupy36condabd0b351e206d41c0bd036f2b23435a37"
  },
  "language_info": {
   "codemirror_mode": {
    "name": "ipython",
    "version": 3
   },
   "file_extension": ".py",
   "mimetype": "text/x-python",
   "name": "python",
   "nbconvert_exporter": "python",
   "pygments_lexer": "ipython3",
   "version": "3.6.2"
  }
 },
 "nbformat": 4,
 "nbformat_minor": 2
}
