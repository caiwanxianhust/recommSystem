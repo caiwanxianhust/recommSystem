{
 "cells": [
  {
   "cell_type": "code",
   "execution_count": 1,
   "metadata": {},
   "outputs": [],
   "source": [
    "from surprise import NormalPredictor\n",
    "from surprise import Dataset\n",
    "from surprise.model_selection import train_test_split"
   ]
  },
  {
   "cell_type": "code",
   "execution_count": 2,
   "metadata": {},
   "outputs": [],
   "source": [
    "data = Dataset.load_builtin(\"ml-100k\")\n",
    "trainset, testset = train_test_split(data, train_size=.8, random_state=True, shuffle=True)"
   ]
  },
  {
   "cell_type": "code",
   "execution_count": 3,
   "metadata": {},
   "outputs": [
    {
     "data": {
      "text/plain": [
       "[('303', '507', 5.0),\n",
       " ('637', '293', 3.0),\n",
       " ('453', '354', 4.0),\n",
       " ('332', '174', 5.0),\n",
       " ('870', '48', 4.0),\n",
       " ('488', '520', 4.0),\n",
       " ('294', '471', 4.0),\n",
       " ('514', '342', 1.0),\n",
       " ('574', '1022', 2.0),\n",
       " ('390', '258', 5.0)]"
      ]
     },
     "execution_count": 3,
     "metadata": {},
     "output_type": "execute_result"
    }
   ],
   "source": [
    "testset[:10]"
   ]
  },
  {
   "cell_type": "code",
   "execution_count": 4,
   "metadata": {},
   "outputs": [
    {
     "data": {
      "text/plain": [
       "[('508', '742', 3.534375),\n",
       " ('508', '28', 3.534375),\n",
       " ('508', '291', 3.534375),\n",
       " ('508', '117', 3.534375),\n",
       " ('508', '682', 3.534375),\n",
       " ('508', '367', 3.534375),\n",
       " ('508', '127', 3.534375),\n",
       " ('508', '94', 3.534375),\n",
       " ('508', '192', 3.534375),\n",
       " ('508', '56', 3.534375)]"
      ]
     },
     "execution_count": 4,
     "metadata": {},
     "output_type": "execute_result"
    }
   ],
   "source": [
    "anti_train = trainset.build_anti_testset()\n",
    "anti_train[:10]"
   ]
  },
  {
   "cell_type": "markdown",
   "metadata": {},
   "source": [
    "## NormalPredictor\n",
    "算法假设训练集服从随机正态分布，随机预测评分"
   ]
  },
  {
   "cell_type": "code",
   "execution_count": 5,
   "metadata": {},
   "outputs": [],
   "source": [
    "model = NormalPredictor()#算法假设训练集服从随机正态分布，随机预测评分\n",
    "model.fit(trainset)\n",
    "anti_pred = model.test(anti_train)"
   ]
  },
  {
   "cell_type": "code",
   "execution_count": 6,
   "metadata": {},
   "outputs": [
    {
     "data": {
      "text/plain": [
       "[Prediction(uid='508', iid='742', r_ui=3.534375, est=4.084694302948275, details={'was_impossible': False}),\n",
       " Prediction(uid='508', iid='28', r_ui=3.534375, est=3.370084299060094, details={'was_impossible': False}),\n",
       " Prediction(uid='508', iid='291', r_ui=3.534375, est=3.5187458602976176, details={'was_impossible': False}),\n",
       " Prediction(uid='508', iid='117', r_ui=3.534375, est=3.660198692207393, details={'was_impossible': False}),\n",
       " Prediction(uid='508', iid='682', r_ui=3.534375, est=3.0633485844207664, details={'was_impossible': False}),\n",
       " Prediction(uid='508', iid='367', r_ui=3.534375, est=3.1305865098482903, details={'was_impossible': False}),\n",
       " Prediction(uid='508', iid='127', r_ui=3.534375, est=3.2326342395665773, details={'was_impossible': False}),\n",
       " Prediction(uid='508', iid='94', r_ui=3.534375, est=4.1011539051842005, details={'was_impossible': False}),\n",
       " Prediction(uid='508', iid='192', r_ui=3.534375, est=3.549987954060884, details={'was_impossible': False}),\n",
       " Prediction(uid='508', iid='56', r_ui=3.534375, est=4.230706205591164, details={'was_impossible': False})]"
      ]
     },
     "execution_count": 6,
     "metadata": {},
     "output_type": "execute_result"
    }
   ],
   "source": [
    "anti_pred[:10]"
   ]
  },
  {
   "cell_type": "code",
   "execution_count": 7,
   "metadata": {},
   "outputs": [
    {
     "data": {
      "text/plain": [
       "[Prediction(uid='303', iid='507', r_ui=5.0, est=5, details={'was_impossible': False}),\n",
       " Prediction(uid='637', iid='293', r_ui=3.0, est=4.815019431599913, details={'was_impossible': False}),\n",
       " Prediction(uid='453', iid='354', r_ui=4.0, est=2.909689841958458, details={'was_impossible': False}),\n",
       " Prediction(uid='332', iid='174', r_ui=5.0, est=3.9030457348583973, details={'was_impossible': False}),\n",
       " Prediction(uid='870', iid='48', r_ui=4.0, est=2.3259537263423944, details={'was_impossible': False}),\n",
       " Prediction(uid='488', iid='520', r_ui=4.0, est=3.6279598940242637, details={'was_impossible': False}),\n",
       " Prediction(uid='294', iid='471', r_ui=4.0, est=3.7309650451657665, details={'was_impossible': False}),\n",
       " Prediction(uid='514', iid='342', r_ui=1.0, est=1.6631764269592786, details={'was_impossible': False}),\n",
       " Prediction(uid='574', iid='1022', r_ui=2.0, est=4.626739584871808, details={'was_impossible': False}),\n",
       " Prediction(uid='390', iid='258', r_ui=5.0, est=2.614967839593452, details={'was_impossible': False})]"
      ]
     },
     "execution_count": 7,
     "metadata": {},
     "output_type": "execute_result"
    }
   ],
   "source": [
    "pred = model.test(testset)\n",
    "pred[:10]"
   ]
  },
  {
   "cell_type": "code",
   "execution_count": 8,
   "metadata": {},
   "outputs": [
    {
     "data": {
      "text/plain": [
       "'303'"
      ]
     },
     "execution_count": 8,
     "metadata": {},
     "output_type": "execute_result"
    }
   ],
   "source": [
    "pred[0].uid"
   ]
  },
  {
   "cell_type": "code",
   "execution_count": 9,
   "metadata": {},
   "outputs": [],
   "source": [
    "u303_ir = []\n",
    "i507_ur = []\n",
    "for p in pred:\n",
    "    if p.uid == '303':\n",
    "        u303_ir.append({\"iid\": p.iid, \"rui\":p.r_ui, \"est\":p.est})\n",
    "    if p.iid == \"507\":\n",
    "        i507_ur.append({\"uid\": p.uid, \"rui\":p.r_ui, \"est\":p.est})"
   ]
  },
  {
   "cell_type": "code",
   "execution_count": 10,
   "metadata": {},
   "outputs": [
    {
     "data": {
      "text/plain": [
       "[{'iid': '507', 'rui': 5.0, 'est': 5},\n",
       " {'iid': '260', 'rui': 3.0, 'est': 3.7882701257511093},\n",
       " {'iid': '1258', 'rui': 2.0, 'est': 1.025421568199989},\n",
       " {'iid': '1232', 'rui': 3.0, 'est': 3.4423467880546843},\n",
       " {'iid': '1', 'rui': 5.0, 'est': 3.7994556385815423},\n",
       " {'iid': '405', 'rui': 4.0, 'est': 5},\n",
       " {'iid': '411', 'rui': 4.0, 'est': 3.17970527433006},\n",
       " {'iid': '426', 'rui': 3.0, 'est': 5},\n",
       " {'iid': '106', 'rui': 2.0, 'est': 4.172375880428305},\n",
       " {'iid': '763', 'rui': 4.0, 'est': 3.8929338883458215}]"
      ]
     },
     "execution_count": 10,
     "metadata": {},
     "output_type": "execute_result"
    }
   ],
   "source": [
    "u303_ir[:10]"
   ]
  },
  {
   "cell_type": "code",
   "execution_count": 11,
   "metadata": {},
   "outputs": [
    {
     "data": {
      "text/plain": [
       "[{'uid': '303', 'rui': 5.0, 'est': 5},\n",
       " {'uid': '70', 'rui': 4.0, 'est': 4.077390319877292},\n",
       " {'uid': '731', 'rui': 3.0, 'est': 3.2681573779789366},\n",
       " {'uid': '239', 'rui': 5.0, 'est': 4.090711832801367},\n",
       " {'uid': '854', 'rui': 4.0, 'est': 3.2811307069447353},\n",
       " {'uid': '271', 'rui': 2.0, 'est': 3.52371607755044},\n",
       " {'uid': '763', 'rui': 4.0, 'est': 3.3271467874577922},\n",
       " {'uid': '6', 'rui': 4.0, 'est': 5},\n",
       " {'uid': '326', 'rui': 2.0, 'est': 2.399570745310518},\n",
       " {'uid': '745', 'rui': 1.0, 'est': 4.043029531577008}]"
      ]
     },
     "execution_count": 11,
     "metadata": {},
     "output_type": "execute_result"
    }
   ],
   "source": [
    "i507_ur[:10]"
   ]
  },
  {
   "cell_type": "code",
   "execution_count": 12,
   "metadata": {},
   "outputs": [
    {
     "name": "stdout",
     "output_type": "stream",
     "text": [
      "RMSE: 1.5199\n"
     ]
    },
    {
     "data": {
      "text/plain": [
       "1.5199457034712296"
      ]
     },
     "execution_count": 12,
     "metadata": {},
     "output_type": "execute_result"
    }
   ],
   "source": [
    "from surprise import accuracy\n",
    "accuracy.rmse(pred)"
   ]
  },
  {
   "cell_type": "code",
   "execution_count": 13,
   "metadata": {},
   "outputs": [
    {
     "data": {
      "text/plain": [
       "[Prediction(uid='303', iid='507', r_ui=5.0, est=3.3804411797189853, details={'was_impossible': False}),\n",
       " Prediction(uid='637', iid='293', r_ui=3.0, est=4.188046688758131, details={'was_impossible': False}),\n",
       " Prediction(uid='453', iid='354', r_ui=4.0, est=2.790941198911536, details={'was_impossible': False}),\n",
       " Prediction(uid='332', iid='174', r_ui=5.0, est=2.4818516178229784, details={'was_impossible': False}),\n",
       " Prediction(uid='870', iid='48', r_ui=4.0, est=3.4180376793734246, details={'was_impossible': False}),\n",
       " Prediction(uid='488', iid='520', r_ui=4.0, est=1.4267518812987445, details={'was_impossible': False}),\n",
       " Prediction(uid='294', iid='471', r_ui=4.0, est=4.789527347717046, details={'was_impossible': False}),\n",
       " Prediction(uid='514', iid='342', r_ui=1.0, est=3.2829624636953056, details={'was_impossible': False}),\n",
       " Prediction(uid='574', iid='1022', r_ui=2.0, est=3.2506317334614163, details={'was_impossible': False}),\n",
       " Prediction(uid='390', iid='258', r_ui=5.0, est=4.571766059338637, details={'was_impossible': False})]"
      ]
     },
     "execution_count": 13,
     "metadata": {},
     "output_type": "execute_result"
    }
   ],
   "source": [
    "new_pred = model.test(testset)\n",
    "new_pred[:10]"
   ]
  },
  {
   "cell_type": "markdown",
   "metadata": {},
   "source": [
    "new_pred和pred结果不同，可以看出，NormalPredictor确实是根据期望和方差随机预测的"
   ]
  },
  {
   "cell_type": "code",
   "execution_count": null,
   "metadata": {},
   "outputs": [],
   "source": []
  }
 ],
 "metadata": {
  "kernelspec": {
   "display_name": "Python 3.6.2 64-bit ('TF2_GPU_PY36': conda)",
   "language": "python",
   "name": "python36264bittf2gpupy36condabd0b351e206d41c0bd036f2b23435a37"
  },
  "language_info": {
   "codemirror_mode": {
    "name": "ipython",
    "version": 3
   },
   "file_extension": ".py",
   "mimetype": "text/x-python",
   "name": "python",
   "nbconvert_exporter": "python",
   "pygments_lexer": "ipython3",
   "version": "3.6.2"
  }
 },
 "nbformat": 4,
 "nbformat_minor": 2
}
