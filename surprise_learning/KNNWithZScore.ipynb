{
 "cells": [
  {
   "cell_type": "code",
   "execution_count": 1,
   "metadata": {},
   "outputs": [],
   "source": [
    "from surprise import KNNWithZScore, accuracy, Dataset\n",
    "from surprise.model_selection import train_test_split"
   ]
  },
  {
   "cell_type": "code",
   "execution_count": 2,
   "metadata": {},
   "outputs": [],
   "source": [
    "data = Dataset.load_builtin(\"ml-100k\")\n",
    "trainset, testset = train_test_split(data, test_size=.2, random_state=10, shuffle=True)"
   ]
  },
  {
   "cell_type": "markdown",
   "metadata": {},
   "source": [
    "## KNNWithZScore\n",
    "一种基本的协同过滤算法，考虑到每个用户的平均评分和评分方差。  \n",
    "The prediction $\\hat{r_{ui}}$ is set as:\n",
    "$$\n",
    "\\hat{r_{ui}}=\\mu_u+\\sigma_u\\frac{\\sum_{v\\in{N^k_i(u)}}sim(u,v)⋅(r_{vi}−\\mu_v)/\\sigma_v}{\\sum_{v\\in{N^k_i(u)}}sim(u,v)}\n",
    "$$\n",
    "or  \n",
    "$$\n",
    "\\hat{r_{ui}}=\\mu_i+\\sigma_i\\frac{\\sum_{j\\in{N^k_u(i)}}sim(i,j)⋅(r_{uj}−\\mu_j)/\\sigma_j}{\\sum_{j\\in{N^k_u(i)}}sim(i,j)}\n",
    "$$"
   ]
  },
  {
   "cell_type": "code",
   "execution_count": 3,
   "metadata": {},
   "outputs": [
    {
     "name": "stdout",
     "output_type": "stream",
     "text": [
      "Estimating biases using als...\n",
      "Computing the pearson_baseline similarity matrix...\n",
      "Done computing similarity matrix.\n"
     ]
    },
    {
     "data": {
      "text/plain": [
       "<surprise.prediction_algorithms.knns.KNNWithZScore at 0x22b5294e390>"
      ]
     },
     "execution_count": 3,
     "metadata": {},
     "output_type": "execute_result"
    }
   ],
   "source": [
    "sim_options = {\n",
    "    'name':'pearson_baseline',\n",
    "    'min_support':0,\n",
    "    'user_based':True,\n",
    "    \"shrinkage\":100\n",
    "}\n",
    "model = KNNWithZScore(\n",
    "    k=30,\n",
    "    min_k=1,\n",
    "    sim_options=sim_options,\n",
    "    verbose=True\n",
    ")\n",
    "model.fit(trainset)"
   ]
  },
  {
   "cell_type": "code",
   "execution_count": 4,
   "metadata": {},
   "outputs": [
    {
     "data": {
      "text/plain": [
       "(array([[ 1.        ,  0.00288911, -0.01398557,  0.01750217,  0.00828402],\n",
       "        [ 0.00288911,  1.        ,  0.03474046,  0.00456765, -0.00237884],\n",
       "        [-0.01398557,  0.03474046,  1.        ,  0.02321789, -0.02159672],\n",
       "        [ 0.01750217,  0.00456765,  0.02321789,  1.        ,  0.03779227],\n",
       "        [ 0.00828402, -0.00237884, -0.02159672,  0.03779227,  1.        ]]),\n",
       " (943, 943))"
      ]
     },
     "execution_count": 4,
     "metadata": {},
     "output_type": "execute_result"
    }
   ],
   "source": [
    "#用户的相似度矩阵，对称矩阵\n",
    "model.sim[:5, :5], model.sim.shape"
   ]
  },
  {
   "cell_type": "code",
   "execution_count": 5,
   "metadata": {},
   "outputs": [
    {
     "data": {
      "text/plain": [
       "[Prediction(uid='154', iid='302', r_ui=4.0, est=4.4379295008668125, details={'actual_k': 30, 'was_impossible': False}),\n",
       " Prediction(uid='896', iid='484', r_ui=4.0, est=3.453858570329012, details={'actual_k': 30, 'was_impossible': False}),\n",
       " Prediction(uid='230', iid='371', r_ui=4.0, est=3.5744438733171213, details={'actual_k': 27, 'was_impossible': False}),\n",
       " Prediction(uid='234', iid='294', r_ui=3.0, est=2.4590286813499747, details={'actual_k': 30, 'was_impossible': False}),\n",
       " Prediction(uid='25', iid='729', r_ui=4.0, est=4.111132011921498, details={'actual_k': 30, 'was_impossible': False}),\n",
       " Prediction(uid='249', iid='156', r_ui=5.0, est=4.813341348943073, details={'actual_k': 30, 'was_impossible': False}),\n",
       " Prediction(uid='64', iid='447', r_ui=4.0, est=3.5957262363407274, details={'actual_k': 30, 'was_impossible': False}),\n",
       " Prediction(uid='896', iid='1134', r_ui=3.0, est=2.4737336782154853, details={'actual_k': 13, 'was_impossible': False}),\n",
       " Prediction(uid='18', iid='153', r_ui=4.0, est=3.918788684040592, details={'actual_k': 30, 'was_impossible': False}),\n",
       " Prediction(uid='378', iid='709', r_ui=4.0, est=3.6562779687165827, details={'actual_k': 30, 'was_impossible': False})]"
      ]
     },
     "execution_count": 5,
     "metadata": {},
     "output_type": "execute_result"
    }
   ],
   "source": [
    "pred = model.test(testset)\n",
    "pred[:10]"
   ]
  },
  {
   "cell_type": "code",
   "execution_count": 6,
   "metadata": {},
   "outputs": [
    {
     "name": "stdout",
     "output_type": "stream",
     "text": [
      "RMSE: 0.9264\n"
     ]
    },
    {
     "data": {
      "text/plain": [
       "0.926407579942053"
      ]
     },
     "execution_count": 6,
     "metadata": {},
     "output_type": "execute_result"
    }
   ],
   "source": [
    "accuracy.rmse(pred)"
   ]
  },
  {
   "cell_type": "code",
   "execution_count": null,
   "metadata": {},
   "outputs": [],
   "source": []
  }
 ],
 "metadata": {
  "kernelspec": {
   "display_name": "Python 3.6.2 64-bit ('TF2_GPU_PY36': conda)",
   "language": "python",
   "name": "python36264bittf2gpupy36condabd0b351e206d41c0bd036f2b23435a37"
  },
  "language_info": {
   "codemirror_mode": {
    "name": "ipython",
    "version": 3
   },
   "file_extension": ".py",
   "mimetype": "text/x-python",
   "name": "python",
   "nbconvert_exporter": "python",
   "pygments_lexer": "ipython3",
   "version": "3.6.2"
  }
 },
 "nbformat": 4,
 "nbformat_minor": 2
}
