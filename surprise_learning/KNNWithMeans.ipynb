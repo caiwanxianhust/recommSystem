{
 "cells": [
  {
   "cell_type": "code",
   "execution_count": 1,
   "metadata": {},
   "outputs": [],
   "source": [
    "from surprise import KNNWithMeans, accuracy, Dataset\n",
    "from surprise.model_selection import train_test_split"
   ]
  },
  {
   "cell_type": "code",
   "execution_count": 2,
   "metadata": {},
   "outputs": [],
   "source": [
    "data = Dataset.load_builtin(\"ml-100k\")\n",
    "trainset, testset = train_test_split(data, test_size=.2, random_state=10, shuffle=True)"
   ]
  },
  {
   "cell_type": "markdown",
   "metadata": {},
   "source": [
    "## KNNWithMeans\n",
    "一种基本的协同过滤算法，考虑到每个用户的平均评分。  \n",
    "The prediction $\\hat{r_{ui}}$ is set as:\n",
    "$$\n",
    "\\hat{r_{ui}}=\\mu_u+\\frac{\\sum_{v\\in{N^k_i(u)}}sim(u,v)⋅(r_{vi}−\\mu_v)}{\\sum_{v\\in{N^k_i(u)}}sim(u,v)}\n",
    "$$\n",
    "or\n",
    "$$\n",
    "\\hat{r_{ui}}=\\mu_i+\\frac{\\sum_{j\\in{N^k_u(i)}}sim(i,j)⋅(r_{uj}−\\mu_j)}{\\sum_{j\\in{N^k_u(i)}}sim(i,j)}\n",
    "$$"
   ]
  },
  {
   "cell_type": "code",
   "execution_count": 4,
   "metadata": {},
   "outputs": [
    {
     "name": "stdout",
     "output_type": "stream",
     "text": [
      "Estimating biases using als...\n",
      "Computing the pearson_baseline similarity matrix...\n",
      "Done computing similarity matrix.\n"
     ]
    },
    {
     "data": {
      "text/plain": [
       "<surprise.prediction_algorithms.knns.KNNWithMeans at 0x1bc46e8d748>"
      ]
     },
     "execution_count": 4,
     "metadata": {},
     "output_type": "execute_result"
    }
   ],
   "source": [
    "sim_options = {\n",
    "    'name':'pearson_baseline',\n",
    "    'min_support':0,\n",
    "    'user_based':True,\n",
    "    \"shrinkage\":100\n",
    "}\n",
    "model = KNNWithMeans(\n",
    "    k=30,\n",
    "    min_k=1,\n",
    "    sim_options=sim_options,\n",
    "    verbose=True\n",
    ")\n",
    "model.fit(trainset)"
   ]
  },
  {
   "cell_type": "code",
   "execution_count": 5,
   "metadata": {},
   "outputs": [
    {
     "data": {
      "text/plain": [
       "(array([[ 1.        ,  0.00288911, -0.01398557,  0.01750217,  0.00828402],\n",
       "        [ 0.00288911,  1.        ,  0.03474046,  0.00456765, -0.00237884],\n",
       "        [-0.01398557,  0.03474046,  1.        ,  0.02321789, -0.02159672],\n",
       "        [ 0.01750217,  0.00456765,  0.02321789,  1.        ,  0.03779227],\n",
       "        [ 0.00828402, -0.00237884, -0.02159672,  0.03779227,  1.        ]]),\n",
       " (943, 943))"
      ]
     },
     "execution_count": 5,
     "metadata": {},
     "output_type": "execute_result"
    }
   ],
   "source": [
    "#用户的相似度矩阵，对称矩阵\n",
    "model.sim[:5, :5], model.sim.shape"
   ]
  },
  {
   "cell_type": "code",
   "execution_count": 6,
   "metadata": {},
   "outputs": [
    {
     "data": {
      "text/plain": [
       "[Prediction(uid='154', iid='302', r_ui=4.0, est=4.53055020423171, details={'actual_k': 30, 'was_impossible': False}),\n",
       " Prediction(uid='896', iid='484', r_ui=4.0, est=3.4239419751031974, details={'actual_k': 30, 'was_impossible': False}),\n",
       " Prediction(uid='230', iid='371', r_ui=4.0, est=3.5677876869208536, details={'actual_k': 27, 'was_impossible': False}),\n",
       " Prediction(uid='234', iid='294', r_ui=3.0, est=2.44881975557589, details={'actual_k': 30, 'was_impossible': False}),\n",
       " Prediction(uid='25', iid='729', r_ui=4.0, est=4.1654326333971445, details={'actual_k': 30, 'was_impossible': False}),\n",
       " Prediction(uid='249', iid='156', r_ui=5.0, est=4.932291736832702, details={'actual_k': 30, 'was_impossible': False}),\n",
       " Prediction(uid='64', iid='447', r_ui=4.0, est=3.6316859513473863, details={'actual_k': 30, 'was_impossible': False}),\n",
       " Prediction(uid='896', iid='1134', r_ui=3.0, est=2.5058084390140287, details={'actual_k': 13, 'was_impossible': False}),\n",
       " Prediction(uid='18', iid='153', r_ui=4.0, est=3.938132331946971, details={'actual_k': 30, 'was_impossible': False}),\n",
       " Prediction(uid='378', iid='709', r_ui=4.0, est=3.717574351566801, details={'actual_k': 30, 'was_impossible': False})]"
      ]
     },
     "execution_count": 6,
     "metadata": {},
     "output_type": "execute_result"
    }
   ],
   "source": [
    "pred = model.test(testset)\n",
    "pred[:10]"
   ]
  },
  {
   "cell_type": "code",
   "execution_count": 7,
   "metadata": {},
   "outputs": [
    {
     "name": "stdout",
     "output_type": "stream",
     "text": [
      "RMSE: 0.9282\n"
     ]
    },
    {
     "data": {
      "text/plain": [
       "0.928225836106306"
      ]
     },
     "execution_count": 7,
     "metadata": {},
     "output_type": "execute_result"
    }
   ],
   "source": [
    "accuracy.rmse(pred)"
   ]
  },
  {
   "cell_type": "code",
   "execution_count": null,
   "metadata": {},
   "outputs": [],
   "source": []
  }
 ],
 "metadata": {
  "kernelspec": {
   "display_name": "Python 3.6.2 64-bit ('TF2_GPU_PY36': conda)",
   "language": "python",
   "name": "python36264bittf2gpupy36condabd0b351e206d41c0bd036f2b23435a37"
  },
  "language_info": {
   "codemirror_mode": {
    "name": "ipython",
    "version": 3
   },
   "file_extension": ".py",
   "mimetype": "text/x-python",
   "name": "python",
   "nbconvert_exporter": "python",
   "pygments_lexer": "ipython3",
   "version": "3.6.2"
  }
 },
 "nbformat": 4,
 "nbformat_minor": 2
}
