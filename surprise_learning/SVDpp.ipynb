{
 "cells": [
  {
   "cell_type": "markdown",
   "metadata": {},
   "source": [
    "## SVDpp\n",
    "作为SVD的升级算法，考虑到了用户对所有有过评分行为的商品的隐性反馈。  \n",
    "The prediction r^ui is set as:  \n",
    "$$\n",
    "\\hat{r_{ui}}=\\mu+b_u+b_i+q^T_i(p_u+|I_u|^{−1/2}\\sum_{j\\in{I_u}}y_j)\n",
    "$$\n",
    "这里$y_j$是一组新的物品因子，用于捕捉隐性评级，即用户评价了商品j的个人喜好偏置"
   ]
  },
  {
   "cell_type": "code",
   "execution_count": 1,
   "metadata": {},
   "outputs": [],
   "source": [
    "from surprise import SVDpp, accuracy, Dataset\n",
    "from surprise.model_selection import train_test_split"
   ]
  },
  {
   "cell_type": "code",
   "execution_count": 2,
   "metadata": {},
   "outputs": [],
   "source": [
    "data = Dataset.load_builtin(\"ml-100k\")\n",
    "trainset, testset = train_test_split(data, test_size=.2, shuffle=True, random_state=10)"
   ]
  },
  {
   "cell_type": "code",
   "execution_count": 4,
   "metadata": {},
   "outputs": [
    {
     "name": "stdout",
     "output_type": "stream",
     "text": [
      " processing epoch 0\n",
      " processing epoch 1\n",
      " processing epoch 2\n",
      " processing epoch 3\n",
      " processing epoch 4\n",
      " processing epoch 5\n",
      " processing epoch 6\n",
      " processing epoch 7\n",
      " processing epoch 8\n",
      " processing epoch 9\n",
      " processing epoch 10\n",
      " processing epoch 11\n",
      " processing epoch 12\n",
      " processing epoch 13\n",
      " processing epoch 14\n",
      " processing epoch 15\n",
      " processing epoch 16\n",
      " processing epoch 17\n",
      " processing epoch 18\n",
      " processing epoch 19\n"
     ]
    },
    {
     "data": {
      "text/plain": [
       "<surprise.prediction_algorithms.matrix_factorization.SVDpp at 0x2597f6dfba8>"
      ]
     },
     "execution_count": 4,
     "metadata": {},
     "output_type": "execute_result"
    }
   ],
   "source": [
    "model = SVDpp(\n",
    "    n_factors=100,#隐因子的大小，即矩阵分解的k值\n",
    "    n_epochs=20,\n",
    "    init_mean=0,#假定隐因子向量服从正态分布的均值。默认0\n",
    "    init_std_dev=.1,#假定隐因子向量服从正态分布的方差。默认0.1\n",
    "    lr_all=.005,#所有参数的学习率\n",
    "    reg_all=.002,#所有参数的正则化惩罚参数\n",
    "    lr_bi=None,#bi的学习率，优先于lr_all\n",
    "    lr_bu=None,#bu的学习率，优先于lr_all\n",
    "    lr_qi=None,#qi的学习率，优先于lr_all\n",
    "    lr_pu=None,#pu的学习率，优先于lr_all\n",
    "    lr_yj=None,#yi的学习率，优先于lr_all\n",
    "    reg_bi=None,#bi的正则化惩罚参数，优先于reg_all\n",
    "    reg_bu=None,#bu的正则化惩罚参数，优先于reg_all\n",
    "    reg_qi=None,#qi的正则化惩罚参数，优先于reg_all\n",
    "    reg_pu=None,#pu的正则化惩罚参数，优先于reg_all\n",
    "    reg_yj=None,#yi的正则化惩罚参数，优先于reg_all\n",
    "    random_state=10,\n",
    "    verbose=True\n",
    ")\n",
    "model.fit(trainset)"
   ]
  },
  {
   "cell_type": "code",
   "execution_count": 5,
   "metadata": {},
   "outputs": [
    {
     "data": {
      "text/plain": [
       "(943, 100)"
      ]
     },
     "execution_count": 5,
     "metadata": {},
     "output_type": "execute_result"
    }
   ],
   "source": [
    "pu = model.pu\n",
    "pu.shape"
   ]
  },
  {
   "cell_type": "code",
   "execution_count": 6,
   "metadata": {},
   "outputs": [
    {
     "data": {
      "text/plain": [
       "((1653, 100), 3.5282375)"
      ]
     },
     "execution_count": 6,
     "metadata": {},
     "output_type": "execute_result"
    }
   ],
   "source": [
    "qi = model.qi\n",
    "bi = model.bi\n",
    "bu = model.bu\n",
    "yj = model.yj\n",
    "global_mean = trainset.global_mean\n",
    "yj.shape, global_mean"
   ]
  },
  {
   "cell_type": "code",
   "execution_count": 7,
   "metadata": {},
   "outputs": [
    {
     "data": {
      "text/plain": [
       "[Prediction(uid='154', iid='302', r_ui=4.0, est=4.266729334909859, details={'was_impossible': False}),\n",
       " Prediction(uid='896', iid='484', r_ui=4.0, est=4.029826950256732, details={'was_impossible': False}),\n",
       " Prediction(uid='230', iid='371', r_ui=4.0, est=3.245403002099773, details={'was_impossible': False}),\n",
       " Prediction(uid='234', iid='294', r_ui=3.0, est=2.095114885396975, details={'was_impossible': False}),\n",
       " Prediction(uid='25', iid='729', r_ui=4.0, est=3.91871829855566, details={'was_impossible': False})]"
      ]
     },
     "execution_count": 7,
     "metadata": {},
     "output_type": "execute_result"
    }
   ],
   "source": [
    "pred = model.test(testset)\n",
    "pred[:5]"
   ]
  },
  {
   "cell_type": "code",
   "execution_count": 8,
   "metadata": {},
   "outputs": [
    {
     "name": "stdout",
     "output_type": "stream",
     "text": [
      "RMSE: 0.9315\n"
     ]
    },
    {
     "data": {
      "text/plain": [
       "0.9315074547799508"
      ]
     },
     "execution_count": 8,
     "metadata": {},
     "output_type": "execute_result"
    }
   ],
   "source": [
    "accuracy.rmse(pred)"
   ]
  },
  {
   "cell_type": "code",
   "execution_count": 9,
   "metadata": {},
   "outputs": [
    {
     "data": {
      "text/plain": [
       "(171, 738)"
      ]
     },
     "execution_count": 9,
     "metadata": {},
     "output_type": "execute_result"
    }
   ],
   "source": [
    "trainset.to_inner_iid('302'), trainset.to_inner_uid('154')"
   ]
  },
  {
   "cell_type": "code",
   "execution_count": 10,
   "metadata": {},
   "outputs": [
    {
     "data": {
      "text/plain": [
       "[(61, 5.0), (5, 4.0), (418, 5.0), (232, 4.0), (245, 4.0)]"
      ]
     },
     "execution_count": 10,
     "metadata": {},
     "output_type": "execute_result"
    }
   ],
   "source": [
    "ur = trainset.ur[738]\n",
    "ur[:5]"
   ]
  },
  {
   "cell_type": "code",
   "execution_count": 11,
   "metadata": {},
   "outputs": [
    {
     "data": {
      "text/plain": [
       "(array([ 0.46591679, -0.01760601,  0.33893417, -0.59497736,  0.01154657,\n",
       "         0.27853249,  0.60461401,  0.31332899,  0.95245207,  0.66316093,\n",
       "        -0.28455223, -0.24311912, -0.23802693,  0.04298593,  0.86705005,\n",
       "        -0.28870749, -0.09216296,  0.09597773,  0.27308644, -0.40378002,\n",
       "        -0.05781717, -0.05917021,  0.04575827, -0.0539812 ,  0.18512899,\n",
       "         0.19859737,  0.32728435,  0.61882183,  0.22455721,  0.75694698,\n",
       "         0.28479897, -0.08267368, -0.11139986,  0.34141078,  0.01849795,\n",
       "         0.31446014, -0.05205146, -0.3735532 ,  0.19307094,  0.48020824,\n",
       "        -0.01358934, -0.61465379,  0.10138678,  0.00735017, -0.7757618 ,\n",
       "        -0.03654485,  0.73888832, -0.6899228 , -0.03353955,  0.46378631,\n",
       "        -1.01907517, -0.63383956, -0.02812417, -0.47145491, -0.20166856,\n",
       "        -0.07703023,  1.16442911, -1.01568158, -0.47485544,  0.39311605,\n",
       "         0.76041676,  0.27449021,  0.175515  , -0.41883673, -0.02689833,\n",
       "         0.057071  , -1.2081172 ,  0.42112661, -0.54412295,  0.20193349,\n",
       "         0.34122353,  0.30437296,  0.0901439 ,  0.94041116, -0.48166173,\n",
       "        -0.55008312, -0.25651584, -0.71359456, -0.47665837, -0.1743031 ,\n",
       "        -0.26224739, -0.366175  ,  0.24415838,  0.22308905, -0.16101812,\n",
       "        -0.13777393, -0.88623023,  0.57144413,  0.60362637,  0.83019252,\n",
       "        -0.25278767, -0.89901713,  0.28795435,  1.20880716,  0.20306551,\n",
       "        -0.79647074, -0.04604164,  0.68175091,  0.28948364,  0.34850939]), 40)"
      ]
     },
     "execution_count": 11,
     "metadata": {},
     "output_type": "execute_result"
    }
   ],
   "source": [
    "import numpy as np\n",
    "yj_u738 = np.zeros(100)\n",
    "for (iid, rating) in ur:\n",
    "    yj_u738 += yj[iid]\n",
    "yj_u738, len(ur)"
   ]
  },
  {
   "cell_type": "code",
   "execution_count": 13,
   "metadata": {},
   "outputs": [
    {
     "data": {
      "text/plain": [
       "4.266729334909859"
      ]
     },
     "execution_count": 13,
     "metadata": {},
     "output_type": "execute_result"
    }
   ],
   "source": [
    "#根据原理验证是否和pred第一行一致\n",
    "global_mean + bu[738] + bi[171] + np.dot(qi[171], pu[738]+yj_u738/(40**.5))"
   ]
  },
  {
   "cell_type": "code",
   "execution_count": null,
   "metadata": {},
   "outputs": [],
   "source": []
  }
 ],
 "metadata": {
  "kernelspec": {
   "display_name": "Python 3.6.2 64-bit ('TF2_GPU_PY36': conda)",
   "language": "python",
   "name": "python36264bittf2gpupy36condabd0b351e206d41c0bd036f2b23435a37"
  },
  "language_info": {
   "codemirror_mode": {
    "name": "ipython",
    "version": 3
   },
   "file_extension": ".py",
   "mimetype": "text/x-python",
   "name": "python",
   "nbconvert_exporter": "python",
   "pygments_lexer": "ipython3",
   "version": "3.6.2"
  }
 },
 "nbformat": 4,
 "nbformat_minor": 2
}
