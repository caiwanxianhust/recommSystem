{
 "cells": [
  {
   "cell_type": "code",
   "execution_count": 1,
   "metadata": {},
   "outputs": [],
   "source": [
    "from surprise import BaselineOnly\n",
    "from surprise import accuracy\n",
    "from surprise import Dataset\n",
    "from surprise.model_selection import train_test_split"
   ]
  },
  {
   "cell_type": "code",
   "execution_count": 2,
   "metadata": {},
   "outputs": [],
   "source": [
    "data = Dataset.load_builtin(\"ml-100k\")\n",
    "trainset, testset = train_test_split(data, train_size=.8, random_state=10, shuffle=True)"
   ]
  },
  {
   "cell_type": "markdown",
   "metadata": {},
   "source": [
    "该baseline算法最小化以下正则化平方误差\n",
    "$$\n",
    "\\sum_{r_{ui}\\in{R_{train}}}(r_{ui}−(\\mu+b_u+b_i))^2+\\lambda(b^2_u+b^2_i).\n",
    "$$"
   ]
  },
  {
   "cell_type": "code",
   "execution_count": 3,
   "metadata": {},
   "outputs": [
    {
     "name": "stdout",
     "output_type": "stream",
     "text": [
      "Estimating biases using als...\n"
     ]
    },
    {
     "data": {
      "text/plain": [
       "<surprise.prediction_algorithms.baseline_only.BaselineOnly at 0x29786dcf8d0>"
      ]
     },
     "execution_count": 3,
     "metadata": {},
     "output_type": "execute_result"
    }
   ],
   "source": [
    "bsl_options = {'method': 'als',\n",
    "               'n_epochs': 10,\n",
    "               'reg_u': 12,\n",
    "               'reg_i': 5\n",
    "               }\n",
    "baseline = BaselineOnly(bsl_options=bsl_options, verbose=True)\n",
    "baseline.fit(trainset)"
   ]
  },
  {
   "cell_type": "code",
   "execution_count": 4,
   "metadata": {},
   "outputs": [
    {
     "data": {
      "text/plain": [
       "[Prediction(uid='154', iid='302', r_ui=4.0, est=4.294213006413121, details={'was_impossible': False}),\n",
       " Prediction(uid='896', iid='484', r_ui=4.0, est=3.630032476033948, details={'was_impossible': False}),\n",
       " Prediction(uid='230', iid='371', r_ui=4.0, est=3.458257925450486, details={'was_impossible': False}),\n",
       " Prediction(uid='234', iid='294', r_ui=3.0, est=2.5622782715012966, details={'was_impossible': False}),\n",
       " Prediction(uid='25', iid='729', r_ui=4.0, est=3.5903947613626372, details={'was_impossible': False}),\n",
       " Prediction(uid='249', iid='156', r_ui=5.0, est=4.3494386318087415, details={'was_impossible': False}),\n",
       " Prediction(uid='64', iid='447', r_ui=4.0, est=3.3699065522994838, details={'was_impossible': False}),\n",
       " Prediction(uid='896', iid='1134', r_ui=3.0, est=2.7709378054991585, details={'was_impossible': False}),\n",
       " Prediction(uid='18', iid='153', r_ui=4.0, est=3.8832826951221637, details={'was_impossible': False}),\n",
       " Prediction(uid='378', iid='709', r_ui=4.0, est=3.9746148599463846, details={'was_impossible': False})]"
      ]
     },
     "execution_count": 4,
     "metadata": {},
     "output_type": "execute_result"
    }
   ],
   "source": [
    "pred = baseline.test(testset)\n",
    "pred[:10]"
   ]
  },
  {
   "cell_type": "code",
   "execution_count": 5,
   "metadata": {},
   "outputs": [
    {
     "data": {
      "text/plain": [
       "[('154', '302', 4.0),\n",
       " ('896', '484', 4.0),\n",
       " ('230', '371', 4.0),\n",
       " ('234', '294', 3.0),\n",
       " ('25', '729', 4.0),\n",
       " ('249', '156', 5.0),\n",
       " ('64', '447', 4.0),\n",
       " ('896', '1134', 3.0),\n",
       " ('18', '153', 4.0),\n",
       " ('378', '709', 4.0)]"
      ]
     },
     "execution_count": 5,
     "metadata": {},
     "output_type": "execute_result"
    }
   ],
   "source": [
    "testset[:10]"
   ]
  },
  {
   "cell_type": "code",
   "execution_count": 8,
   "metadata": {},
   "outputs": [
    {
     "data": {
      "text/plain": [
       "(1653, array([ 0.89635215, -0.27567096,  0.25453814,  0.26963269, -0.8494579 ,\n",
       "         0.21856154,  0.60372569,  0.59540045,  0.02074645,  0.33199024]))"
      ]
     },
     "execution_count": 8,
     "metadata": {},
     "output_type": "execute_result"
    }
   ],
   "source": [
    "len(baseline.bi), baseline.bi[:10]"
   ]
  },
  {
   "cell_type": "code",
   "execution_count": 9,
   "metadata": {},
   "outputs": [
    {
     "data": {
      "text/plain": [
       "(943, array([-0.57340316, -0.09967058,  0.05739471, -0.22851873,  0.01401689,\n",
       "        -0.2978673 ,  0.17696704, -0.02960559, -0.65771845, -0.18264165]))"
      ]
     },
     "execution_count": 9,
     "metadata": {},
     "output_type": "execute_result"
    }
   ],
   "source": [
    "len(baseline.bu), baseline.bu[:10]"
   ]
  },
  {
   "cell_type": "code",
   "execution_count": 12,
   "metadata": {},
   "outputs": [
    {
     "data": {
      "text/plain": [
       "3.5282375"
      ]
     },
     "execution_count": 12,
     "metadata": {},
     "output_type": "execute_result"
    }
   ],
   "source": [
    "global_mean = trainset.global_mean\n",
    "global_mean"
   ]
  },
  {
   "cell_type": "code",
   "execution_count": 13,
   "metadata": {},
   "outputs": [
    {
     "data": {
      "text/plain": [
       "2.935450483568054"
      ]
     },
     "execution_count": 13,
     "metadata": {},
     "output_type": "execute_result"
    }
   ],
   "source": [
    "global_mean + baseline.bu[154] + baseline.bi[302]"
   ]
  },
  {
   "cell_type": "code",
   "execution_count": 14,
   "metadata": {},
   "outputs": [
    {
     "data": {
      "text/plain": [
       "(171, 738)"
      ]
     },
     "execution_count": 14,
     "metadata": {},
     "output_type": "execute_result"
    }
   ],
   "source": [
    "trainset.to_inner_iid('302'), trainset.to_inner_uid('154')"
   ]
  },
  {
   "cell_type": "code",
   "execution_count": 17,
   "metadata": {},
   "outputs": [
    {
     "data": {
      "text/plain": [
       "4.294213006413121"
      ]
     },
     "execution_count": 17,
     "metadata": {},
     "output_type": "execute_result"
    }
   ],
   "source": [
    "global_mean + baseline.bu[738] + baseline.bi[171]"
   ]
  },
  {
   "cell_type": "markdown",
   "metadata": {},
   "source": [
    "上述结果与Prediction(uid='154', iid='302', r_ui=4.0, est=4.294213006413121, details={'was_impossible': False})结果对应，可见该算法的原理是先计算出训练集评分的全局均值$\\mu$，然后对于每个用户和物品给定初始偏置项$b_u,b_i$，用bsl中设置的优化算法确定$b_u,b_i$，最终预测值$r_{ui}=\\mu+b_u+b_i$。损失函数如下：\n",
    "$$\n",
    "\\sum_{r_{ui}\\in{R_{train}}}(r_{ui}−(\\mu+b_u+b_i))^2+\\lambda(b^2_u+b^2_i).\n",
    "$$"
   ]
  },
  {
   "cell_type": "code",
   "execution_count": 18,
   "metadata": {},
   "outputs": [
    {
     "name": "stdout",
     "output_type": "stream",
     "text": [
      "RMSE: 0.9339\n"
     ]
    },
    {
     "data": {
      "text/plain": [
       "0.9338705612178355"
      ]
     },
     "execution_count": 18,
     "metadata": {},
     "output_type": "execute_result"
    }
   ],
   "source": [
    "accuracy.rmse(pred)"
   ]
  },
  {
   "cell_type": "code",
   "execution_count": null,
   "metadata": {},
   "outputs": [],
   "source": []
  }
 ],
 "metadata": {
  "kernelspec": {
   "display_name": "Python 3.6.2 64-bit ('TF2_GPU_PY36': conda)",
   "language": "python",
   "name": "python36264bittf2gpupy36condabd0b351e206d41c0bd036f2b23435a37"
  },
  "language_info": {
   "codemirror_mode": {
    "name": "ipython",
    "version": 3
   },
   "file_extension": ".py",
   "mimetype": "text/x-python",
   "name": "python",
   "nbconvert_exporter": "python",
   "pygments_lexer": "ipython3",
   "version": "3.6.2"
  }
 },
 "nbformat": 4,
 "nbformat_minor": 2
}
