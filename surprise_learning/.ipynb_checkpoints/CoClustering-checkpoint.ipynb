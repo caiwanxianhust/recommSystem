{
 "cells": [
  {
   "cell_type": "markdown",
   "metadata": {},
   "source": [
    "## CoClustering\n",
    "这是一个基于聚类的协同过滤算法，该算法是根据文献【1】来实现的。该算法的主要思想是分别将user和item进行分类（类似分桶），然后根据类中心来进行预测。其预测函数如下：\n",
    "$$\n",
    "\\hat r_{ui}=\\overline C_{ui}+(\\mu _u-\\overline C_u)+(\\mu _i-\\overline C_i)\n",
    "$$\n",
    "其中，$\\overline C_{ui}$是用户u和商品i所在的联合类中的所有成员的分数均值，类中的成员以(u,i)的形式存在。$\\overline C_u$是用户u所在的用户类中的所有成员的分数均值。$\\overline C_i$是item i所在的item 类中的所有成员的分数均。$\\mu _u$是用户u历史上打过的所有的分值的均值。$\\mu _i$是item i得到的所有分数的均值。"
   ]
  },
  {
   "cell_type": "code",
   "execution_count": 1,
   "metadata": {},
   "outputs": [],
   "source": [
    "from surprise import CoClustering, accuracy, Dataset\n",
    "from surprise.model_selection import train_test_split"
   ]
  },
  {
   "cell_type": "code",
   "execution_count": 2,
   "metadata": {},
   "outputs": [],
   "source": [
    "data = Dataset.load_builtin(\"ml-100k\")\n",
    "trainset, testset = train_test_split(data, test_size=.2, shuffle=True, random_state=10)"
   ]
  },
  {
   "cell_type": "code",
   "execution_count": 3,
   "metadata": {},
   "outputs": [
    {
     "name": "stdout",
     "output_type": "stream",
     "text": [
      "Processing epoch 0\n",
      "Processing epoch 1\n",
      "Processing epoch 2\n",
      "Processing epoch 3\n",
      "Processing epoch 4\n",
      "Processing epoch 5\n",
      "Processing epoch 6\n",
      "Processing epoch 7\n",
      "Processing epoch 8\n",
      "Processing epoch 9\n",
      "Processing epoch 10\n",
      "Processing epoch 11\n",
      "Processing epoch 12\n",
      "Processing epoch 13\n",
      "Processing epoch 14\n",
      "Processing epoch 15\n",
      "Processing epoch 16\n",
      "Processing epoch 17\n",
      "Processing epoch 18\n",
      "Processing epoch 19\n",
      "Wall time: 1.44 s\n"
     ]
    },
    {
     "data": {
      "text/plain": [
       "<surprise.prediction_algorithms.co_clustering.CoClustering at 0x1c41b6e5cc0>"
      ]
     },
     "execution_count": 3,
     "metadata": {},
     "output_type": "execute_result"
    }
   ],
   "source": [
    "model = CoClustering(\n",
    "    n_cltr_u=3,#num of u clusters\n",
    "    n_cltr_i=3,#num of i clusters\n",
    "    n_epochs=20,\n",
    "    random_state=10,\n",
    "    verbose=True,\n",
    ")\n",
    "%time model.fit(trainset)"
   ]
  },
  {
   "cell_type": "code",
   "execution_count": 4,
   "metadata": {},
   "outputs": [
    {
     "data": {
      "text/plain": [
       "array([[3.36830905, 3.70071406, 3.65944022],\n",
       "       [3.57759377, 3.66831564, 2.92864125],\n",
       "       [2.89403525, 3.78092675, 3.79628463]])"
      ]
     },
     "execution_count": 4,
     "metadata": {},
     "output_type": "execute_result"
    }
   ],
   "source": [
    "cocltr_mean = model.avg_cocltr\n",
    "cocltr_mean"
   ]
  },
  {
   "cell_type": "code",
   "execution_count": 5,
   "metadata": {},
   "outputs": [
    {
     "data": {
      "text/plain": [
       "array([3.56273375, 3.52025715, 3.49477763])"
      ]
     },
     "execution_count": 5,
     "metadata": {},
     "output_type": "execute_result"
    }
   ],
   "source": [
    "cltr_u_mean = model.avg_cltr_u\n",
    "cltr_u_mean"
   ]
  },
  {
   "cell_type": "code",
   "execution_count": 6,
   "metadata": {},
   "outputs": [
    {
     "data": {
      "text/plain": [
       "array([3.30288814, 3.72144089, 3.5714011 ])"
      ]
     },
     "execution_count": 6,
     "metadata": {},
     "output_type": "execute_result"
    }
   ],
   "source": [
    "cltr_i_mean = model.avg_cltr_i\n",
    "cltr_i_mean"
   ]
  },
  {
   "cell_type": "code",
   "execution_count": 10,
   "metadata": {},
   "outputs": [
    {
     "data": {
      "text/plain": [
       "((943,), (1653,))"
      ]
     },
     "execution_count": 10,
     "metadata": {},
     "output_type": "execute_result"
    }
   ],
   "source": [
    "#u,i的类别向量\n",
    "cu, ci = model.cltr_u, model.cltr_i\n",
    "cu.shape, ci.shape"
   ]
  },
  {
   "cell_type": "code",
   "execution_count": 11,
   "metadata": {},
   "outputs": [
    {
     "data": {
      "text/plain": [
       "[Prediction(uid='154', iid='302', r_ui=4.0, est=4.693372591340446, details={'was_impossible': False}),\n",
       " Prediction(uid='896', iid='484', r_ui=4.0, est=3.5753966810489017, details={'was_impossible': False}),\n",
       " Prediction(uid='230', iid='371', r_ui=4.0, est=3.810400856426408, details={'was_impossible': False}),\n",
       " Prediction(uid='234', iid='294', r_ui=3.0, est=2.3202648154470222, details={'was_impossible': False}),\n",
       " Prediction(uid='25', iid='729', r_ui=4.0, est=4.24822136924692, details={'was_impossible': False})]"
      ]
     },
     "execution_count": 11,
     "metadata": {},
     "output_type": "execute_result"
    }
   ],
   "source": [
    "pred = model.test(testset)\n",
    "pred[:5]"
   ]
  },
  {
   "cell_type": "code",
   "execution_count": 12,
   "metadata": {},
   "outputs": [
    {
     "name": "stdout",
     "output_type": "stream",
     "text": [
      "RMSE: 0.9513\n"
     ]
    },
    {
     "data": {
      "text/plain": [
       "0.9513316110326725"
      ]
     },
     "execution_count": 12,
     "metadata": {},
     "output_type": "execute_result"
    }
   ],
   "source": [
    "accuracy.rmse(pred)"
   ]
  },
  {
   "cell_type": "code",
   "execution_count": 13,
   "metadata": {},
   "outputs": [
    {
     "data": {
      "text/plain": [
       "(171, 738)"
      ]
     },
     "execution_count": 13,
     "metadata": {},
     "output_type": "execute_result"
    }
   ],
   "source": [
    "trainset.to_inner_iid('302'), trainset.to_inner_uid('154')"
   ]
  },
  {
   "cell_type": "code",
   "execution_count": 14,
   "metadata": {},
   "outputs": [],
   "source": [
    "ur_738 = trainset.ur[738]\n",
    "ir_171 = trainset.ir[171]"
   ]
  },
  {
   "cell_type": "code",
   "execution_count": 17,
   "metadata": {},
   "outputs": [
    {
     "data": {
      "text/plain": [
       "4.693372591340445"
      ]
     },
     "execution_count": 17,
     "metadata": {},
     "output_type": "execute_result"
    }
   ],
   "source": [
    "#验证结果和pred第一行是否一致\n",
    "ur_738_mean = sum([rating for _, rating in ur_738])/len(ur_738)\n",
    "ir_171_mean = sum([rating for _, rating in ir_171])/len(ir_171)\n",
    "est = cocltr_mean[cu[738], ci[171]] + \\\n",
    "(ur_738_mean - cltr_u_mean[cu[738]]) + \\\n",
    "(ir_171_mean - cltr_i_mean[ci[171]])\n",
    "est"
   ]
  },
  {
   "cell_type": "code",
   "execution_count": null,
   "metadata": {},
   "outputs": [],
   "source": []
  }
 ],
 "metadata": {
  "kernelspec": {
   "display_name": "Python 3.6.2 64-bit ('TF2_GPU_PY36': conda)",
   "language": "python",
   "name": "python36264bittf2gpupy36condabd0b351e206d41c0bd036f2b23435a37"
  },
  "language_info": {
   "codemirror_mode": {
    "name": "ipython",
    "version": 3
   },
   "file_extension": ".py",
   "mimetype": "text/x-python",
   "name": "python",
   "nbconvert_exporter": "python",
   "pygments_lexer": "ipython3",
   "version": "3.6.2"
  }
 },
 "nbformat": 4,
 "nbformat_minor": 2
}
