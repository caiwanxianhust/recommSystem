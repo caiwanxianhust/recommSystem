{
 "cells": [
  {
   "cell_type": "markdown",
   "metadata": {},
   "source": [
    "## NMF\n",
    "一种基于非负矩阵分解的协同过滤算法。\n",
    "在普通的SVD的运算过程中，会得到一些负数的embedding，这里，提出了一个假设：分解出来的小矩阵应该满足非负约束。  \n",
    "因为在大部分方法中，原始矩阵  被近似分解为两个低秩矩阵  相乘的形式，这些方法的共同之处是，即使原始矩阵的元素都是非负的，也不能保证分解出的小矩阵都为非负，这就导致了推荐系统中经典的矩阵分解方法可以达到很好的预测性能，但不能做出像User-based CF那样符合人们习惯的推荐解释（即跟你品味相似的人也购买了此商品）。在数学意义上，分解出的结果是正是负都没关系，只要保证还原后的矩阵元素非负并且误差尽可能小即可，但负值元素往往在现实世界中是没有任何意义的。比如图像数据中不可能存在是负数的像素值，因为取值在0~255之间；在统计文档的词频时，负值也是无法进行解释的。因此提出带有非负约束的矩阵分解是对于传统的矩阵分解无法进行科学解释做出的一个尝试。  \n",
    "其中， 分解的两个矩阵中的元素满足非负约束。\n",
    "该算法和SVD非常相似，只是参数更新方法有所不同。评分预测公式如下：\n",
    "$$\n",
    "\\hat{r_{ui}} = q^T_i{p_u}\n",
    "$$\n",
    "其中，$q_i$和$p_u$中所有元素都是非负的，采用梯度下降算法进行参数更新时，其初始值也是非负的。\n",
    "参数更新步骤如下：\n",
    "$$\n",
    "p_{uf}\\longleftarrow{p_{uf}}\\frac{\\sum_{i\\in{I_u}}q_{if}r_{ui}}{\\sum_{i\\in{I_u}}q_{if}r_{ui}+\\lambda_u|I_u|p_{uf}}\\\\\n",
    "q_{if}\\longleftarrow{q_{if}}\\frac{\\sum_{u\\in{U_i}}p_{uf}r_{ui}}{\\sum_{u\\in{U_i}}p_{uf}r_{ui}+\\lambda_i|U_i|q_{if}}\n",
    "$$\n",
    "其中$\\lambda_u,\\lambda_i$是正则化参数。该算法高度依赖于初始值。用户和商品因子在init_low和init_high之间统一初始化。\n",
    "通过将biasted参数设置为True，可以获得有偏差的版本。在这种情况下，预测被设置为：\n",
    "$$\n",
    "\\hat{r_{ui}} = q^T_i{p_u}+\\mu+b_u+b_i\n",
    "$$"
   ]
  },
  {
   "cell_type": "code",
   "execution_count": 1,
   "metadata": {},
   "outputs": [],
   "source": [
    "from surprise import NMF, accuracy, Dataset\n",
    "from surprise.model_selection import train_test_split"
   ]
  },
  {
   "cell_type": "code",
   "execution_count": 2,
   "metadata": {},
   "outputs": [],
   "source": [
    "data = Dataset.load_builtin(\"ml-100k\")\n",
    "trainset, testset = train_test_split(data, test_size=.2, shuffle=True, random_state=10)"
   ]
  },
  {
   "cell_type": "code",
   "execution_count": 3,
   "metadata": {},
   "outputs": [
    {
     "name": "stdout",
     "output_type": "stream",
     "text": [
      "Processing epoch 0\n",
      "Processing epoch 1\n",
      "Processing epoch 2\n",
      "Processing epoch 3\n",
      "Processing epoch 4\n",
      "Processing epoch 5\n",
      "Processing epoch 6\n",
      "Processing epoch 7\n",
      "Processing epoch 8\n",
      "Processing epoch 9\n",
      "Processing epoch 10\n",
      "Processing epoch 11\n",
      "Processing epoch 12\n",
      "Processing epoch 13\n",
      "Processing epoch 14\n",
      "Processing epoch 15\n",
      "Processing epoch 16\n",
      "Processing epoch 17\n",
      "Processing epoch 18\n",
      "Processing epoch 19\n"
     ]
    },
    {
     "data": {
      "text/plain": [
       "<surprise.prediction_algorithms.matrix_factorization.NMF at 0x1fe75c057b8>"
      ]
     },
     "execution_count": 3,
     "metadata": {},
     "output_type": "execute_result"
    }
   ],
   "source": [
    "model = NMF(\n",
    "    n_factors=15,\n",
    "    n_epochs=20,\n",
    "    biased=False,\n",
    "    reg_pu=.05,\n",
    "    reg_qi=.05,\n",
    "#     reg_bu=.02,#只适用于有偏置的算法\n",
    "#     reg_bi=.002,#只适用于有偏置的算法\n",
    "#     lr_bi=.005,#只适用于有偏置的算法\n",
    "#     lr_bu=.005,#只适用于有偏置的算法\n",
    "    init_low=0,#因子随机初始化的下限，必须大于等于0，默认取0\n",
    "    init_high=1,#因子随机初始化的上限，必须大于等于init_low，默认取1\n",
    "    random_state=10,\n",
    "    verbose=True,\n",
    ")\n",
    "model.fit(trainset)"
   ]
  },
  {
   "cell_type": "code",
   "execution_count": 5,
   "metadata": {},
   "outputs": [
    {
     "data": {
      "text/plain": [
       "((1653, 15), (943, 15), 3.5282375)"
      ]
     },
     "execution_count": 5,
     "metadata": {},
     "output_type": "execute_result"
    }
   ],
   "source": [
    "qi = model.qi\n",
    "pu = model.pu\n",
    "global_mean = trainset.global_mean\n",
    "qi.shape, pu.shape, global_mean"
   ]
  },
  {
   "cell_type": "code",
   "execution_count": 6,
   "metadata": {},
   "outputs": [
    {
     "data": {
      "text/plain": [
       "[Prediction(uid='154', iid='302', r_ui=4.0, est=4.741850122231619, details={'was_impossible': False}),\n",
       " Prediction(uid='896', iid='484', r_ui=4.0, est=3.72367174361809, details={'was_impossible': False}),\n",
       " Prediction(uid='230', iid='371', r_ui=4.0, est=3.340652588769487, details={'was_impossible': False}),\n",
       " Prediction(uid='234', iid='294', r_ui=3.0, est=2.718435244325606, details={'was_impossible': False}),\n",
       " Prediction(uid='25', iid='729', r_ui=4.0, est=3.93320651525825, details={'was_impossible': False})]"
      ]
     },
     "execution_count": 6,
     "metadata": {},
     "output_type": "execute_result"
    }
   ],
   "source": [
    "pred = model.test(testset)\n",
    "pred[:5]"
   ]
  },
  {
   "cell_type": "code",
   "execution_count": 7,
   "metadata": {},
   "outputs": [
    {
     "name": "stdout",
     "output_type": "stream",
     "text": [
      "RMSE: 0.9721\n"
     ]
    },
    {
     "data": {
      "text/plain": [
       "0.9720544059554616"
      ]
     },
     "execution_count": 7,
     "metadata": {},
     "output_type": "execute_result"
    }
   ],
   "source": [
    "accuracy.rmse(pred)"
   ]
  },
  {
   "cell_type": "code",
   "execution_count": 8,
   "metadata": {},
   "outputs": [
    {
     "data": {
      "text/plain": [
       "(171, 738)"
      ]
     },
     "execution_count": 8,
     "metadata": {},
     "output_type": "execute_result"
    }
   ],
   "source": [
    "trainset.to_inner_iid('302'), trainset.to_inner_uid('154')"
   ]
  },
  {
   "cell_type": "code",
   "execution_count": 9,
   "metadata": {},
   "outputs": [
    {
     "data": {
      "text/plain": [
       "4.741850122231619"
      ]
     },
     "execution_count": 9,
     "metadata": {},
     "output_type": "execute_result"
    }
   ],
   "source": [
    "#验证结果和pred第一行是否一致\n",
    "import numpy as np\n",
    "np.dot(qi[171], pu[738])"
   ]
  },
  {
   "cell_type": "code",
   "execution_count": null,
   "metadata": {},
   "outputs": [],
   "source": []
  }
 ],
 "metadata": {
  "kernelspec": {
   "display_name": "Python 3.6.2 64-bit ('TF2_GPU_PY36': conda)",
   "language": "python",
   "name": "python36264bittf2gpupy36condabd0b351e206d41c0bd036f2b23435a37"
  },
  "language_info": {
   "codemirror_mode": {
    "name": "ipython",
    "version": 3
   },
   "file_extension": ".py",
   "mimetype": "text/x-python",
   "name": "python",
   "nbconvert_exporter": "python",
   "pygments_lexer": "ipython3",
   "version": "3.6.2"
  }
 },
 "nbformat": 4,
 "nbformat_minor": 2
}
